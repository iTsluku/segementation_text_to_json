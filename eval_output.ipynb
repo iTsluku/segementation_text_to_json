{
 "cells": [
  {
   "cell_type": "markdown",
   "metadata": {},
   "source": [
    "# Evaluate output.json (tesseract -> hocr)"
   ]
  },
  {
   "cell_type": "code",
   "execution_count": 1,
   "metadata": {},
   "outputs": [],
   "source": [
    "import json"
   ]
  },
  {
   "cell_type": "code",
   "execution_count": 2,
   "metadata": {},
   "outputs": [],
   "source": [
    "data = None\n",
    "with open(\"output/output.json\", \"r\") as file:\n",
    "    data = json.load(file)"
   ]
  },
  {
   "cell_type": "markdown",
   "metadata": {},
   "source": [
    "## locations with registered proceedings"
   ]
  },
  {
   "cell_type": "code",
   "execution_count": 3,
   "metadata": {},
   "outputs": [],
   "source": [
    "residences={}\n",
    "for proceeding in data[\"proceedings\"]:\n",
    "    proceeding_residences = {}\n",
    "    p = proceeding[\"proceeding\"]\n",
    "    # check if proceeding holds info about people\n",
    "    if p[\"people\"]:\n",
    "        for person in p[\"people\"]:\n",
    "            check_residence = person[\"residence\"]\n",
    "            # if not None\n",
    "            if check_residence:\n",
    "                # count only once per proceeding\n",
    "                if check_residence not in proceeding_residences:\n",
    "                    proceeding_residences[check_residence]=None\n",
    "    for r in proceeding_residences:\n",
    "        if r not in residences:\n",
    "            residences[r]=1\n",
    "        else:\n",
    "            residences[r]+=1"
   ]
  },
  {
   "cell_type": "code",
   "execution_count": 4,
   "metadata": {},
   "outputs": [
    {
     "name": "stdout",
     "output_type": "stream",
     "text": [
      "1281 München\n",
      "183 Augsburg\n",
      "42 Kempten\n",
      "30 Passau\n",
      "30 Landshut\n",
      "25 Rosenheim\n",
      "24 Memmingen\n",
      "20 Lindau\n",
      "18 Freising\n",
      "17 Ingolstadt\n",
      "16 Bad Tölz\n",
      "14 München und\n",
      "13 Traunstein\n",
      "13 Deggendorf\n",
      "12 Füssen\n",
      "12 Dachau\n",
      "12 Berlin\n",
      "12 Weilheim\n",
      "11 Mühldorf\n",
      "10 Kaufbeuren\n",
      "10 Berchtesgaden\n",
      "10 Erding\n"
     ]
    }
   ],
   "source": [
    "i=0\n",
    "for k,v in sorted([(k,v) for (k,v) in residences.items()],key=lambda x:x[1],reverse=True):\n",
    "    print(v,k)\n",
    "    if i>20:\n",
    "        break\n",
    "    i+=1"
   ]
  },
  {
   "cell_type": "markdown",
   "metadata": {},
   "source": [
    "## locations"
   ]
  },
  {
   "cell_type": "code",
   "execution_count": 5,
   "metadata": {},
   "outputs": [
    {
     "name": "stdout",
     "output_type": "stream",
     "text": [
      "1561\n"
     ]
    }
   ],
   "source": [
    "print(len(residences))"
   ]
  },
  {
   "cell_type": "markdown",
   "metadata": {},
   "source": [
    "## references to regests"
   ]
  },
  {
   "cell_type": "code",
   "execution_count": 6,
   "metadata": {},
   "outputs": [
    {
     "name": "stdout",
     "output_type": "stream",
     "text": [
      "3851\n"
     ]
    }
   ],
   "source": [
    "print(sum(residences.values()))"
   ]
  },
  {
   "cell_type": "markdown",
   "metadata": {},
   "source": [
    "## locations with >= 10 registered proceedings"
   ]
  },
  {
   "cell_type": "code",
   "execution_count": 7,
   "metadata": {},
   "outputs": [],
   "source": [
    "residences_10 = {k:v for (k,v) in residences.items() if v>=10}"
   ]
  },
  {
   "cell_type": "code",
   "execution_count": 8,
   "metadata": {},
   "outputs": [
    {
     "name": "stdout",
     "output_type": "stream",
     "text": [
      "1281 München\n",
      "183 Augsburg\n",
      "42 Kempten\n",
      "30 Passau\n",
      "30 Landshut\n",
      "25 Rosenheim\n",
      "24 Memmingen\n",
      "20 Lindau\n",
      "18 Freising\n",
      "17 Ingolstadt\n",
      "16 Bad Tölz\n",
      "14 München und\n",
      "13 Traunstein\n",
      "13 Deggendorf\n",
      "12 Füssen\n",
      "12 Dachau\n",
      "12 Berlin\n",
      "12 Weilheim\n",
      "11 Mühldorf\n",
      "10 Kaufbeuren\n",
      "10 Berchtesgaden\n",
      "10 Erding\n",
      "10 Nürnberg\n",
      "10 Weißenburg\n",
      "10 Aichach\n"
     ]
    }
   ],
   "source": [
    "for k,v in sorted([(k,v) for (k,v) in residences_10.items()],key=lambda x:x[1],reverse=True):\n",
    "    print(v,k)"
   ]
  },
  {
   "cell_type": "markdown",
   "metadata": {},
   "source": [
    "## EDA"
   ]
  },
  {
   "cell_type": "code",
   "execution_count": 9,
   "metadata": {},
   "outputs": [
    {
     "name": "stdout",
     "output_type": "stream",
     "text": [
      "3162\n"
     ]
    }
   ],
   "source": [
    "k=0\n",
    "for proceeding in data[\"proceedings\"]:\n",
    "    p = proceeding[\"proceeding\"]\n",
    "    if \"München\" in p[\"text_preprocessed\"]:\n",
    "        k+=1\n",
    "print(k)"
   ]
  },
  {
   "cell_type": "markdown",
   "metadata": {},
   "source": [
    "## regests"
   ]
  },
  {
   "cell_type": "code",
   "execution_count": 10,
   "metadata": {},
   "outputs": [
    {
     "name": "stdout",
     "output_type": "stream",
     "text": [
      "9562\n"
     ]
    }
   ],
   "source": [
    "print(len(data[\"proceedings\"]))"
   ]
  },
  {
   "cell_type": "markdown",
   "metadata": {},
   "source": [
    "### regest with people data"
   ]
  },
  {
   "cell_type": "code",
   "execution_count": 11,
   "metadata": {},
   "outputs": [
    {
     "name": "stdout",
     "output_type": "stream",
     "text": [
      "7460\n"
     ]
    }
   ],
   "source": [
    "k=0\n",
    "for proceeding in data[\"proceedings\"]:\n",
    "    p = proceeding[\"proceeding\"]\n",
    "    # check if proceeding holds info about people\n",
    "    if p[\"people\"]:\n",
    "        k+=1\n",
    "print(k)"
   ]
  },
  {
   "cell_type": "markdown",
   "metadata": {},
   "source": [
    "### regest with accusation"
   ]
  },
  {
   "cell_type": "code",
   "execution_count": 12,
   "metadata": {},
   "outputs": [
    {
     "name": "stdout",
     "output_type": "stream",
     "text": [
      "7460 6757 703\n"
     ]
    }
   ],
   "source": [
    "k=0 # regest with accusation\n",
    "l=0 # regest without accusation\n",
    "\n",
    "# k and l are limited to regest with people data!\n",
    "\n",
    "for proceeding in data[\"proceedings\"]:\n",
    "    p = proceeding[\"proceeding\"]\n",
    "    # check if proceeding holds info about people\n",
    "    if p[\"people\"]:\n",
    "        f=True\n",
    "        for person in p[\"people\"]:\n",
    "            if person[\"accusation\"]:\n",
    "                k+=1\n",
    "                f=False\n",
    "                break # goto next proceeding\n",
    "        if f:\n",
    "            l+=1\n",
    "\n",
    "print(k+l,k,l)"
   ]
  },
  {
   "cell_type": "markdown",
   "metadata": {},
   "source": [
    "### regest with result"
   ]
  },
  {
   "cell_type": "code",
   "execution_count": 13,
   "metadata": {},
   "outputs": [
    {
     "name": "stdout",
     "output_type": "stream",
     "text": [
      "7460 6810 ;regests with people data but missing result: 650\n"
     ]
    }
   ],
   "source": [
    "k=0 # regest with result\n",
    "l=0 # regest without result\n",
    "\n",
    "# k and l are limited to regest with people data!\n",
    "\n",
    "for proceeding in data[\"proceedings\"]:\n",
    "    p = proceeding[\"proceeding\"]\n",
    "    # check if proceeding holds info about people\n",
    "    if p[\"people\"]:\n",
    "        f=True\n",
    "        for person in p[\"people\"]:\n",
    "            if person[\"result\"]:\n",
    "                k+=1\n",
    "                f=False\n",
    "                break # goto next proceeding\n",
    "        if f:\n",
    "            l+=1\n",
    "\n",
    "print(k+l,k,f\";regests with people data but missing result: {l}\")"
   ]
  },
  {
   "cell_type": "code",
   "execution_count": 14,
   "metadata": {},
   "outputs": [],
   "source": [
    "### regest with law"
   ]
  },
  {
   "cell_type": "code",
   "execution_count": 15,
   "metadata": {},
   "outputs": [],
   "source": [
    "#TODO"
   ]
  },
  {
   "cell_type": "markdown",
   "metadata": {},
   "source": [
    "### regest with no error tags"
   ]
  },
  {
   "cell_type": "code",
   "execution_count": 16,
   "metadata": {},
   "outputs": [
    {
     "name": "stdout",
     "output_type": "stream",
     "text": [
      "5081\n"
     ]
    }
   ],
   "source": [
    "k=0\n",
    "for proceeding in data[\"proceedings\"]:\n",
    "    m = proceeding[\"meta\"]\n",
    "    # check if proceeding holds info about people\n",
    "    if not m[\"error_tags\"]:\n",
    "        k+=1\n",
    "print(k)"
   ]
  },
  {
   "cell_type": "markdown",
   "metadata": {},
   "source": [
    "## error tags"
   ]
  },
  {
   "cell_type": "code",
   "execution_count": 17,
   "metadata": {},
   "outputs": [
    {
     "name": "stdout",
     "output_type": "stream",
     "text": [
      "('missing_accusation', 2770)\n",
      "('missing_result', 2717)\n",
      "('missing_people', 2102)\n",
      "('missing_ID', 1411)\n",
      "('missing_shelfmark', 1352)\n",
      "('missing_date_of_birth', 1304)\n",
      "('missing_registration_no', 1254)\n",
      "('missing_duration', 836)\n"
     ]
    }
   ],
   "source": [
    "error_tags = {}\n",
    "for proceeding in data[\"proceedings\"]:\n",
    "    m = proceeding[\"meta\"]\n",
    "    for error_tag in m[\"error_tags\"]:\n",
    "        if error_tag in error_tags:\n",
    "            error_tags[error_tag]+=1\n",
    "        else:\n",
    "            error_tags[error_tag]=1\n",
    "error_tags_sorted = sorted([(k,v) for (k,v) in error_tags.items()],key=lambda x:x[1],reverse=True)\n",
    "for et in error_tags_sorted:\n",
    "    print(et)"
   ]
  },
  {
   "cell_type": "code",
   "execution_count": null,
   "metadata": {},
   "outputs": [],
   "source": []
  }
 ],
 "metadata": {
  "kernelspec": {
   "display_name": "Python 3 (ipykernel)",
   "language": "python",
   "name": "python3"
  },
  "language_info": {
   "codemirror_mode": {
    "name": "ipython",
    "version": 3
   },
   "file_extension": ".py",
   "mimetype": "text/x-python",
   "name": "python",
   "nbconvert_exporter": "python",
   "pygments_lexer": "ipython3",
   "version": "3.7.6"
  }
 },
 "nbformat": 4,
 "nbformat_minor": 4
}
